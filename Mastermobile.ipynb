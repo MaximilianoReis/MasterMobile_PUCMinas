{
 "cells": [
  {
   "cell_type": "markdown",
   "id": "e801658c",
   "metadata": {},
   "source": [
    "# Considerações:\n",
    "\n",
    "Para realizarmos a conversão das tabelas do Banco de dados, pensamos inicialmente em realizarmos as consultas diretamente através de uma conexão com o banco, porém, achamos mais apropriado extrair as tabelas em CSV e realizarmos a conversão.\n",
    "\n",
    "Optando por realizar a conversão pelo CSV, encontramos algumas dificuldades em realizar a conversão das consultas como indexação, criar uma relação entre as tabelas. Buscamos solucionar estes problemas extraindo os dados das tabelas primitivas em array e recriando as tabelas em dataframe, alterando algumas colunas das tabelas para facilitar nas consultas"
   ]
  },
  {
   "cell_type": "markdown",
   "id": "17202bbb",
   "metadata": {},
   "source": [
    "# Trasnformando Tabelas em Dataframes"
   ]
  },
     {
   "cell_type": "code",
   "execution_count": 2,
   "id": "5d61799f",
   "metadata": {
    "scrolled": true
   },
   "outputs": [
    {
     "data": {
      "text/html": [
       "<div>\n",
       "<style scoped>\n",
       "    .dataframe tbody tr th:only-of-type {\n",
       "        vertical-align: middle;\n",
       "    }\n",
       "\n",
       "    .dataframe tbody tr th {\n",
       "        vertical-align: top;\n",
       "    }\n",
       "\n",
       "    .dataframe thead th {\n",
       "        text-align: right;\n",
       "    }\n",
       "</style>\n",
       "<table border=\"1\" class=\"dataframe\">\n",
       "  <thead>\n",
       "    <tr style=\"text-align: right;\">\n",
       "      <th></th>\n",
       "      <th>ID_Clintes</th>\n",
       "      <th>CPF</th>\n",
       "      <th>Nome</th>\n",
       "      <th>Endereço</th>\n",
       "      <th>Email</th>\n",
       "    </tr>\n",
       "  </thead>\n",
       "  <tbody>\n",
       "    <tr>\n",
       "      <th>1</th>\n",
       "      <td>1</td>\n",
       "      <td>12345678901</td>\n",
       "      <td>cliente 1</td>\n",
       "      <td>endereço completo</td>\n",
       "      <td>mail@mail.com</td>\n",
       "    </tr>\n",
       "    <tr>\n",
       "      <th>2</th>\n",
       "      <td>2</td>\n",
       "      <td>12345678902</td>\n",
       "      <td>cliente 2</td>\n",
       "      <td>endereço completo</td>\n",
       "      <td>mail@mail.com</td>\n",
       "    </tr>\n",
       "    <tr>\n",
       "      <th>3</th>\n",
       "      <td>3</td>\n",
       "      <td>12345678903</td>\n",
       "      <td>cliente 3</td>\n",
       "      <td>endereço completo</td>\n",
       "      <td>mail@mail.com</td>\n",
       "    </tr>\n",
       "  </tbody>\n",
       "</table>\n",
       "</div>"
      ],
      "text/plain": [
       "  ID_Clintes          CPF       Nome           Endereço          Email\n",
       "1          1  12345678901  cliente 1  endereço completo  mail@mail.com\n",
       "2          2  12345678902  cliente 2  endereço completo  mail@mail.com\n",
       "3          3  12345678903  cliente 3  endereço completo  mail@mail.com"
      ]
     },
     "execution_count": 2,
     "metadata": {},
     "output_type": "execute_result"
    }
   ],
   "source": [
    "# Tabela Clientes\n",
    "Index = [1,2,3]\n",
    "Colunas_Clintes = [\"ID_Clintes\",\"CPF\",\"Nome\", \"Endereço\",\"Email\"]\n",
    "Dados_Clintes = Tclientes.values\n",
    "Clientes = pd.DataFrame(Dados_Clintes, Index ,Colunas_Clintes)\n",
    "\n",
    "Clientes"
   ]
  },
  {
   "cell_type": "code",
   "execution_count": 3,
   "id": "20f7153f",
   "metadata": {
    "scrolled": true
   },
   "outputs": [
    {
     "data": {
      "text/html": [
       "<div>\n",
       "<style scoped>\n",
       "    .dataframe tbody tr th:only-of-type {\n",
       "        vertical-align: middle;\n",
       "    }\n",
       "\n",
       "    .dataframe tbody tr th {\n",
       "        vertical-align: top;\n",
       "    }\n",
       "\n",
       "    .dataframe thead th {\n",
       "        text-align: right;\n",
       "    }\n",
       "</style>\n",
       "<table border=\"1\" class=\"dataframe\">\n",
       "  <thead>\n",
       "    <tr style=\"text-align: right;\">\n",
       "      <th></th>\n",
       "      <th>Id_Materiais</th>\n",
       "      <th>Nm_Material</th>\n",
       "      <th>Qnt_Materiais</th>\n",
       "    </tr>\n",
       "  </thead>\n",
       "  <tbody>\n",
       "    <tr>\n",
       "      <th>1</th>\n",
       "      <td>1</td>\n",
       "      <td>material 1</td>\n",
       "      <td>9</td>\n",
       "    </tr>\n",
       "    <tr>\n",
       "      <th>2</th>\n",
       "      <td>2</td>\n",
       "      <td>material 2</td>\n",
       "      <td>10</td>\n",
       "    </tr>\n",
       "    <tr>\n",
       "      <th>3</th>\n",
       "      <td>3</td>\n",
       "      <td>material 3</td>\n",
       "      <td>10</td>\n",
       "    </tr>\n",
       "  </tbody>\n",
       "</table>\n",
       "</div>"
      ],
      "text/plain": [
       "  Id_Materiais Nm_Material Qnt_Materiais\n",
       "1            1  material 1             9\n",
       "2            2  material 2            10\n",
       "3            3  material 3            10"
      ]
     },
     "execution_count": 3,
     "metadata": {},
     "output_type": "execute_result"
    }
   ],
   "source": [
    "# Tabela Materiais\n",
    "Index = [1,2,3]\n",
    "Colunas_materiais =  [\"Id_Materiais\",\"Nm_Material\", \"Qnt_Materiais\"]\n",
    "Dados_Materiais = Tmateriais.values\n",
    "Materiais = pd.DataFrame(Dados_Materiais,Index,Colunas_materiais)\n",
    "Materiais"
   ]
  },
  {
   "cell_type": "code",
   "execution_count": 4,
   "id": "5926ead1",
   "metadata": {
    "scrolled": true
   },
   "outputs": [
    {
     "data": {
      "text/html": [
       "<div>\n",
       "<style scoped>\n",
       "    .dataframe tbody tr th:only-of-type {\n",
       "        vertical-align: middle;\n",
       "    }\n",
       "\n",
       "    .dataframe tbody tr th {\n",
       "        vertical-align: top;\n",
       "    }\n",
       "\n",
       "    .dataframe thead th {\n",
       "        text-align: right;\n",
       "    }\n",
       "</style>\n",
       "<table border=\"1\" class=\"dataframe\">\n",
       "  <thead>\n",
       "    <tr style=\"text-align: right;\">\n",
       "      <th></th>\n",
       "      <th>Id_Fornecedores</th>\n",
       "      <th>Id_materiais</th>\n",
       "      <th>Nm_Fornecedor</th>\n",
       "      <th>Valor_Unitário</th>\n",
       "      <th>Qnt_Compra</th>\n",
       "    </tr>\n",
       "  </thead>\n",
       "  <tbody>\n",
       "    <tr>\n",
       "      <th>1</th>\n",
       "      <td>1</td>\n",
       "      <td>1</td>\n",
       "      <td>forcenedor material 1</td>\n",
       "      <td>100.0</td>\n",
       "      <td>10</td>\n",
       "    </tr>\n",
       "    <tr>\n",
       "      <th>2</th>\n",
       "      <td>2</td>\n",
       "      <td>2</td>\n",
       "      <td>forcenedor material 2</td>\n",
       "      <td>100.0</td>\n",
       "      <td>10</td>\n",
       "    </tr>\n",
       "    <tr>\n",
       "      <th>3</th>\n",
       "      <td>3</td>\n",
       "      <td>3</td>\n",
       "      <td>forcenedor material 3</td>\n",
       "      <td>100.0</td>\n",
       "      <td>10</td>\n",
       "    </tr>\n",
       "  </tbody>\n",
       "</table>\n",
       "</div>"
      ],
      "text/plain": [
       "  Id_Fornecedores Id_materiais          Nm_Fornecedor Valor_Unitário  \\\n",
       "1               1            1  forcenedor material 1          100.0   \n",
       "2               2            2  forcenedor material 2          100.0   \n",
       "3               3            3  forcenedor material 3          100.0   \n",
       "\n",
       "  Qnt_Compra  \n",
       "1         10  \n",
       "2         10  \n",
       "3         10  "
      ]
     },
     "execution_count": 4,
     "metadata": {},
     "output_type": "execute_result"
    }
   ],
   "source": [
    "# Tabela Fornecedores\n",
    "Index = [1,2,3]\n",
    "Colunas_Fornecedores = [\"Id_Fornecedores\",\"Id_materiais\",\"Nm_Fornecedor\", \"Valor_Unitário\", \"Qnt_Compra\"]\n",
    "Dados_Fornecedores = Tfornecedores.values\n",
    "Fornecedores = pd.DataFrame (Dados_Fornecedores,Index,Colunas_Fornecedores)\n",
    "Fornecedores\n"
   ]
  },
  {
   "cell_type": "code",
   "execution_count": 5,
   "id": "13db800b",
   "metadata": {
    "scrolled": true
   },
   "outputs": [
    {
     "data": {
      "text/html": [
       "<div>\n",
       "<style scoped>\n",
       "    .dataframe tbody tr th:only-of-type {\n",
       "        vertical-align: middle;\n",
       "    }\n",
       "\n",
       "    .dataframe tbody tr th {\n",
       "        vertical-align: top;\n",
       "    }\n",
       "\n",
       "    .dataframe thead th {\n",
       "        text-align: right;\n",
       "    }\n",
       "</style>\n",
       "<table border=\"1\" class=\"dataframe\">\n",
       "  <thead>\n",
       "    <tr style=\"text-align: right;\">\n",
       "      <th></th>\n",
       "      <th>Id_Produtos</th>\n",
       "      <th>Nm_Produto</th>\n",
       "      <th>Dimensões</th>\n",
       "      <th>Detalhes</th>\n",
       "    </tr>\n",
       "  </thead>\n",
       "  <tbody>\n",
       "    <tr>\n",
       "      <th>1</th>\n",
       "      <td>1</td>\n",
       "      <td>produto 1</td>\n",
       "      <td>alturaxlarguraxprofundidade/peso</td>\n",
       "      <td>material usado</td>\n",
       "    </tr>\n",
       "    <tr>\n",
       "      <th>2</th>\n",
       "      <td>2</td>\n",
       "      <td>produto 2</td>\n",
       "      <td>alturaxlarguraxprofundidade/peso</td>\n",
       "      <td>material usado</td>\n",
       "    </tr>\n",
       "    <tr>\n",
       "      <th>3</th>\n",
       "      <td>3</td>\n",
       "      <td>produto 3</td>\n",
       "      <td>alturaxlarguraxprofundidade/peso</td>\n",
       "      <td>material usado</td>\n",
       "    </tr>\n",
       "  </tbody>\n",
       "</table>\n",
       "</div>"
      ],
      "text/plain": [
       "  Id_Produtos Nm_Produto                         Dimensões        Detalhes\n",
       "1           1  produto 1  alturaxlarguraxprofundidade/peso  material usado\n",
       "2           2  produto 2  alturaxlarguraxprofundidade/peso  material usado\n",
       "3           3  produto 3  alturaxlarguraxprofundidade/peso  material usado"
      ]
     },
     "execution_count": 5,
     "metadata": {},
     "output_type": "execute_result"
    }
   ],
   "source": [
    "# Tabela Produtos\n",
    "Index =  [1,2,3]\n",
    "Colunas_Produtos = [\"Id_Produtos\",\"Nm_Produto\",\"Dimensões\",\"Detalhes\"]\n",
    "Dados_Produtos = Tprodutos.values\n",
    "Produtos = pd.DataFrame(Dados_Produtos,Index,Colunas_Produtos)\n",
    "Produtos\n"
   ]
  },
  {
   "cell_type": "code",
   "execution_count": 6,
   "id": "caa2804a",
   "metadata": {},
   "outputs": [
    {
     "data": {
      "text/html": [
       "<div>\n",
       "<style scoped>\n",
       "    .dataframe tbody tr th:only-of-type {\n",
       "        vertical-align: middle;\n",
       "    }\n",
       "\n",
       "    .dataframe tbody tr th {\n",
       "        vertical-align: top;\n",
       "    }\n",
       "\n",
       "    .dataframe thead th {\n",
       "        text-align: right;\n",
       "    }\n",
       "</style>\n",
       "<table border=\"1\" class=\"dataframe\">\n",
       "  <thead>\n",
       "    <tr style=\"text-align: right;\">\n",
       "      <th></th>\n",
       "      <th>Id_Pedido</th>\n",
       "      <th>Id_clientes</th>\n",
       "      <th>Id_Produto</th>\n",
       "      <th>Status</th>\n",
       "    </tr>\n",
       "  </thead>\n",
       "  <tbody>\n",
       "    <tr>\n",
       "      <th>1</th>\n",
       "      <td>1</td>\n",
       "      <td>1</td>\n",
       "      <td>1</td>\n",
       "      <td>Pedido em produção</td>\n",
       "    </tr>\n",
       "    <tr>\n",
       "      <th>2</th>\n",
       "      <td>2</td>\n",
       "      <td>2</td>\n",
       "      <td>2</td>\n",
       "      <td>Pedido em rota de entrega</td>\n",
       "    </tr>\n",
       "    <tr>\n",
       "      <th>3</th>\n",
       "      <td>3</td>\n",
       "      <td>3</td>\n",
       "      <td>3</td>\n",
       "      <td>Pedido efetuado</td>\n",
       "    </tr>\n",
       "  </tbody>\n",
       "</table>\n",
       "</div>"
      ],
      "text/plain": [
       "  Id_Pedido Id_clientes Id_Produto                     Status\n",
       "1         1           1          1         Pedido em produção\n",
       "2         2           2          2  Pedido em rota de entrega\n",
       "3         3           3          3            Pedido efetuado"
      ]
     },
     "execution_count": 6,
     "metadata": {},
     "output_type": "execute_result"
    }
   ],
   "source": [
    "# Tabela Pedidos\n",
    "Inbdex = [1,2,3]\n",
    "Colunas =[\"Id_Pedido\",\"Id_clientes\",\"Id_Produto\", \"Status\"]\n",
    "Dados = Tpedidos.values\n",
    "Pedidos = pd.DataFrame(Dados,Index,Colunas)\n",
    "Pedidos\n"
   ]
  },
  {
   "cell_type": "code",
   "execution_count": 7,
   "id": "2f6db339",
   "metadata": {},
   "outputs": [
    {
     "data": {
      "text/html": [
       "<div>\n",
       "<style scoped>\n",
       "    .dataframe tbody tr th:only-of-type {\n",
       "        vertical-align: middle;\n",
       "    }\n",
       "\n",
       "    .dataframe tbody tr th {\n",
       "        vertical-align: top;\n",
       "    }\n",
       "\n",
       "    .dataframe thead th {\n",
       "        text-align: right;\n",
       "    }\n",
       "</style>\n",
       "<table border=\"1\" class=\"dataframe\">\n",
       "  <thead>\n",
       "    <tr style=\"text-align: right;\">\n",
       "      <th></th>\n",
       "      <th>Id_Logistica</th>\n",
       "      <th>Id_Pedido</th>\n",
       "      <th>PrazoEntrega</th>\n",
       "    </tr>\n",
       "  </thead>\n",
       "  <tbody>\n",
       "    <tr>\n",
       "      <th>1</th>\n",
       "      <td>1</td>\n",
       "      <td>2</td>\n",
       "      <td>2022-05-30 23:09:00</td>\n",
       "    </tr>\n",
       "  </tbody>\n",
       "</table>\n",
       "</div>"
      ],
      "text/plain": [
       "  Id_Logistica Id_Pedido         PrazoEntrega\n",
       "1            1         2  2022-05-30 23:09:00"
      ]
     },
     "execution_count": 7,
     "metadata": {},
     "output_type": "execute_result"
    }
   ],
   "source": [
    "# Tabela Logistica\n",
    "Index = [1]\n",
    "Colunas_Logistica = [\"Id_Logistica\",\"Id_Pedido\",\"PrazoEntrega\"]\n",
    "Dados_Logistica =Tlogistica.values\n",
    "Logistica = pd.DataFrame(Dados_Logistica,Index,Colunas_Logistica)\n",
    "Logistica\n"
   ]
  },
  {
   "cell_type": "code",
   "execution_count": 8,
   "id": "90206938",
   "metadata": {},
   "outputs": [
    {
     "data": {
      "text/html": [
       "<div>\n",
       "<style scoped>\n",
       "    .dataframe tbody tr th:only-of-type {\n",
       "        vertical-align: middle;\n",
       "    }\n",
       "\n",
       "    .dataframe tbody tr th {\n",
       "        vertical-align: top;\n",
       "    }\n",
       "\n",
       "    .dataframe thead th {\n",
       "        text-align: right;\n",
       "    }\n",
       "</style>\n",
       "<table border=\"1\" class=\"dataframe\">\n",
       "  <thead>\n",
       "    <tr style=\"text-align: right;\">\n",
       "      <th></th>\n",
       "      <th>Id_Produção</th>\n",
       "      <th>Id_Pedido</th>\n",
       "      <th>Id_Materiais</th>\n",
       "      <th>TempoProdução</th>\n",
       "    </tr>\n",
       "  </thead>\n",
       "  <tbody>\n",
       "    <tr>\n",
       "      <th>1</th>\n",
       "      <td>1</td>\n",
       "      <td>1</td>\n",
       "      <td>1</td>\n",
       "      <td>2022-05-30 23:09:00</td>\n",
       "    </tr>\n",
       "  </tbody>\n",
       "</table>\n",
       "</div>"
      ],
      "text/plain": [
       "  Id_Produção Id_Pedido Id_Materiais        TempoProdução\n",
       "1           1         1            1  2022-05-30 23:09:00"
      ]
     },
     "execution_count": 8,
     "metadata": {},
     "output_type": "execute_result"
    }
   ],
   "source": [
    "# Tabela Produção\n",
    "Index= [1]\n",
    "Colunas_Produção = [\"Id_Produção\",\"Id_Pedido\",\"Id_Materiais\",\"TempoProdução\"]\n",
    "Dados_Produção =Tproducao.values\n",
    "Produção = pd.DataFrame(Dados_Produção,Index,Colunas_Produção)\n",
    "Produção"
   ]
  },
  {
   "cell_type": "markdown",
   "id": "be75c1f0",
   "metadata": {},
   "source": [
    "# Realizando as Consultas"
   ]
  },
  {
   "cell_type": "code",
   "execution_count": 9,
   "id": "2d237e8e",
   "metadata": {
    "scrolled": true
   },
   "outputs": [
    {
     "data": {
      "text/html": [
       "<div>\n",
       "<style scoped>\n",
       "    .dataframe tbody tr th:only-of-type {\n",
       "        vertical-align: middle;\n",
       "    }\n",
       "\n",
       "    .dataframe tbody tr th {\n",
       "        vertical-align: top;\n",
       "    }\n",
       "\n",
       "    .dataframe thead th {\n",
       "        text-align: right;\n",
       "    }\n",
       "</style>\n",
       "<table border=\"1\" class=\"dataframe\">\n",
       "  <thead>\n",
       "    <tr style=\"text-align: right;\">\n",
       "      <th></th>\n",
       "      <th>Nm_Material</th>\n",
       "      <th>Qnt_Materiais</th>\n",
       "    </tr>\n",
       "  </thead>\n",
       "  <tbody>\n",
       "    <tr>\n",
       "      <th>1</th>\n",
       "      <td>material 1</td>\n",
       "      <td>9</td>\n",
       "    </tr>\n",
       "    <tr>\n",
       "      <th>2</th>\n",
       "      <td>material 2</td>\n",
       "      <td>10</td>\n",
       "    </tr>\n",
       "    <tr>\n",
       "      <th>3</th>\n",
       "      <td>material 3</td>\n",
       "      <td>10</td>\n",
       "    </tr>\n",
       "  </tbody>\n",
       "</table>\n",
       "</div>"
      ],
      "text/plain": [
       "  Nm_Material Qnt_Materiais\n",
       "1  material 1             9\n",
       "2  material 2            10\n",
       "3  material 3            10"
      ]
     },
     "execution_count": 9,
     "metadata": {},
     "output_type": "execute_result"
    }
   ],
   "source": [
    "#Visualização dos materiais disponiveis\n",
    "'''SELECT\n",
    "nm_material \"Material\",\n",
    "qnt_disponivel \"Quantidade Disponivel\"\n",
    "FROM mastermobile.materiais;\n",
    "-- Visualização dos pedidos em produção'''\n",
    "\n",
    "\n",
    "Materiais.iloc[:,1:]"
   ]
  },
  {
   "cell_type": "code",
   "execution_count": 10,
   "id": "8168457b",
   "metadata": {},
   "outputs": [
    {
     "data": {
      "text/html": [
       "<div>\n",
       "<style scoped>\n",
       "    .dataframe tbody tr th:only-of-type {\n",
       "        vertical-align: middle;\n",
       "    }\n",
       "\n",
       "    .dataframe tbody tr th {\n",
       "        vertical-align: top;\n",
       "    }\n",
       "\n",
       "    .dataframe thead th {\n",
       "        text-align: right;\n",
       "    }\n",
       "</style>\n",
       "<table border=\"1\" class=\"dataframe\">\n",
       "  <thead>\n",
       "    <tr style=\"text-align: right;\">\n",
       "      <th></th>\n",
       "      <th>ID</th>\n",
       "      <th>ID_Cliente</th>\n",
       "      <th>ID_Produto</th>\n",
       "      <th>Status</th>\n",
       "    </tr>\n",
       "  </thead>\n",
       "  <tbody>\n",
       "    <tr>\n",
       "      <th>2</th>\n",
       "      <td>3</td>\n",
       "      <td>3</td>\n",
       "      <td>3</td>\n",
       "      <td>Pedido efetuado</td>\n",
       "    </tr>\n",
       "  </tbody>\n",
       "</table>\n",
       "</div>"
      ],
      "text/plain": [
       "   ID  ID_Cliente  ID_Produto           Status\n",
       "2   3           3           3  Pedido efetuado"
      ]
     },
     "execution_count": 10,
     "metadata": {},
     "output_type": "execute_result"
    }
   ],
   "source": [
    "#Visualização dos pedidos efetuados\n",
    "'''SELECT\n",
    "id \"Código Pedido\",\n",
    "id_cliente \"Código Cliente\",\n",
    "id_produto \"Código Produto\",\n",
    "status \"Status pedido\"\n",
    "FROM mastermobile.pedidos where status = 'pedido efetuado';'''\n",
    "Tpedidos[Tpedidos.Status =='Pedido efetuado']"
   ]
  },
  {
   "cell_type": "code",
   "execution_count": 11,
   "id": "c9ad64d4",
   "metadata": {},
   "outputs": [
    {
     "data": {
      "text/html": [
       "<div>\n",
       "<style scoped>\n",
       "    .dataframe tbody tr th:only-of-type {\n",
       "        vertical-align: middle;\n",
       "    }\n",
       "\n",
       "    .dataframe tbody tr th {\n",
       "        vertical-align: top;\n",
       "    }\n",
       "\n",
       "    .dataframe thead th {\n",
       "        text-align: right;\n",
       "    }\n",
       "</style>\n",
       "<table border=\"1\" class=\"dataframe\">\n",
       "  <thead>\n",
       "    <tr style=\"text-align: right;\">\n",
       "      <th></th>\n",
       "      <th>Nm_Produto</th>\n",
       "      <th>Dimensões</th>\n",
       "      <th>Detalhes</th>\n",
       "    </tr>\n",
       "  </thead>\n",
       "  <tbody>\n",
       "    <tr>\n",
       "      <th>1</th>\n",
       "      <td>produto 1</td>\n",
       "      <td>alturaxlarguraxprofundidade/peso</td>\n",
       "      <td>material usado</td>\n",
       "    </tr>\n",
       "    <tr>\n",
       "      <th>2</th>\n",
       "      <td>produto 2</td>\n",
       "      <td>alturaxlarguraxprofundidade/peso</td>\n",
       "      <td>material usado</td>\n",
       "    </tr>\n",
       "    <tr>\n",
       "      <th>3</th>\n",
       "      <td>produto 3</td>\n",
       "      <td>alturaxlarguraxprofundidade/peso</td>\n",
       "      <td>material usado</td>\n",
       "    </tr>\n",
       "  </tbody>\n",
       "</table>\n",
       "</div>"
      ],
      "text/plain": [
       "  Nm_Produto                         Dimensões        Detalhes\n",
       "1  produto 1  alturaxlarguraxprofundidade/peso  material usado\n",
       "2  produto 2  alturaxlarguraxprofundidade/peso  material usado\n",
       "3  produto 3  alturaxlarguraxprofundidade/peso  material usado"
      ]
     },
     "execution_count": 11,
     "metadata": {},
     "output_type": "execute_result"
    }
   ],
   "source": [
    "# Visualização dos produtos disponiveis\n",
    "'''SELECT\n",
    "nm_produto \"Nome do produto\",\n",
    "dimensoes \"Dimensões\",\n",
    "detalhes \"Detalhes Técnicos\"\n",
    "FROM mastermobile.produtos;'''\n",
    "\n",
    "Produtos.iloc[:,1:]\n"
   ]
  },
  {
   "cell_type": "code",
   "execution_count": 12,
   "id": "a94c2354",
   "metadata": {},
   "outputs": [
    {
     "data": {
      "text/html": [
       "<div>\n",
       "<style scoped>\n",
       "    .dataframe tbody tr th:only-of-type {\n",
       "        vertical-align: middle;\n",
       "    }\n",
       "\n",
       "    .dataframe tbody tr th {\n",
       "        vertical-align: top;\n",
       "    }\n",
       "\n",
       "    .dataframe thead th {\n",
       "        text-align: right;\n",
       "    }\n",
       "</style>\n",
       "<table border=\"1\" class=\"dataframe\">\n",
       "  <thead>\n",
       "    <tr style=\"text-align: right;\">\n",
       "      <th></th>\n",
       "      <th>ID</th>\n",
       "      <th>ID_Pedido</th>\n",
       "      <th>ID_Materiais</th>\n",
       "      <th>TempoProducao</th>\n",
       "      <th>Status</th>\n",
       "    </tr>\n",
       "  </thead>\n",
       "  <tbody>\n",
       "    <tr>\n",
       "      <th>0</th>\n",
       "      <td>1</td>\n",
       "      <td>1</td>\n",
       "      <td>1</td>\n",
       "      <td>2022-05-30 23:09:00</td>\n",
       "      <td>Pedido em produção</td>\n",
       "    </tr>\n",
       "  </tbody>\n",
       "</table>\n",
       "</div>"
      ],
      "text/plain": [
       "   ID  ID_Pedido  ID_Materiais        TempoProducao              Status\n",
       "0   1          1             1  2022-05-30 23:09:00  Pedido em produção"
      ]
     },
     "execution_count": 12,
     "metadata": {},
     "output_type": "execute_result"
    }
   ],
   "source": [
    "#Visualização dos pedidos em produção\n",
    "'''SELECT\n",
    "id_pedido \"Código Pedido\",\n",
    "id_materiais \"Código Material a ser usado\",\n",
    "tempoProducao \"Data e hora prevista para conclusão\",\n",
    "pd.status \"Status\" FROM mastermobile.producao p\n",
    "INNER JOIN mastermobile.pedidos pd\n",
    "on pd.id = p.id_pedido\n",
    "Where pd.status = 'Pedido em produção';'''\n",
    "\n",
    "Tproducao.join(Tpedidos.Status.loc[Tpedidos.Status == 'Pedido em produção' ])"
   ]
  },
  {
   "cell_type": "code",
   "execution_count": 13,
   "id": "638a9309",
   "metadata": {},
   "outputs": [
    {
     "data": {
      "text/html": [
       "<div>\n",
       "<style scoped>\n",
       "    .dataframe tbody tr th:only-of-type {\n",
       "        vertical-align: middle;\n",
       "    }\n",
       "\n",
       "    .dataframe tbody tr th {\n",
       "        vertical-align: top;\n",
       "    }\n",
       "\n",
       "    .dataframe thead th {\n",
       "        text-align: right;\n",
       "    }\n",
       "</style>\n",
       "<table border=\"1\" class=\"dataframe\">\n",
       "  <thead>\n",
       "    <tr style=\"text-align: right;\">\n",
       "      <th></th>\n",
       "      <th>Id_materiais</th>\n",
       "      <th>Nm_Fornecedor</th>\n",
       "      <th>Valor_Unitário</th>\n",
       "      <th>Qnt_Compra</th>\n",
       "    </tr>\n",
       "  </thead>\n",
       "  <tbody>\n",
       "    <tr>\n",
       "      <th>1</th>\n",
       "      <td>1</td>\n",
       "      <td>forcenedor material 1</td>\n",
       "      <td>100.0</td>\n",
       "      <td>10</td>\n",
       "    </tr>\n",
       "    <tr>\n",
       "      <th>2</th>\n",
       "      <td>2</td>\n",
       "      <td>forcenedor material 2</td>\n",
       "      <td>100.0</td>\n",
       "      <td>10</td>\n",
       "    </tr>\n",
       "    <tr>\n",
       "      <th>3</th>\n",
       "      <td>3</td>\n",
       "      <td>forcenedor material 3</td>\n",
       "      <td>100.0</td>\n",
       "      <td>10</td>\n",
       "    </tr>\n",
       "  </tbody>\n",
       "</table>\n",
       "</div>"
      ],
      "text/plain": [
       "  Id_materiais          Nm_Fornecedor Valor_Unitário Qnt_Compra\n",
       "1            1  forcenedor material 1          100.0         10\n",
       "2            2  forcenedor material 2          100.0         10\n",
       "3            3  forcenedor material 3          100.0         10"
      ]
     },
     "execution_count": 13,
     "metadata": {},
     "output_type": "execute_result"
    }
   ],
   "source": [
    "#Visualização dos forncedores cadastrados\n",
    "\"\"\"SELECT\n",
    "id_materiais \"Código Material\",\n",
    "nm_fornecedor \"Nome do Fornecedor\",\n",
    "qnt_comprada \"Quantidade Total Adquirida\",\n",
    "valor_unitario \"Valor unitário pago\",\n",
    "qnt_comprada*valor_unitario \"Valor Total da compra\"\n",
    "FROM mastermobile.fornecedores;\"\"\"\n",
    "\n",
    "Fornecedores.iloc[:,1:]"
   ]
  },
  {
   "cell_type": "code",
   "execution_count": 14,
   "id": "70ad0eda",
   "metadata": {},
   "outputs": [
    {
     "data": {
      "text/html": [
       "<div>\n",
       "<style scoped>\n",
       "    .dataframe tbody tr th:only-of-type {\n",
       "        vertical-align: middle;\n",
       "    }\n",
       "\n",
       "    .dataframe tbody tr th {\n",
       "        vertical-align: top;\n",
       "    }\n",
       "\n",
       "    .dataframe thead th {\n",
       "        text-align: right;\n",
       "    }\n",
       "</style>\n",
       "<table border=\"1\" class=\"dataframe\">\n",
       "  <thead>\n",
       "    <tr style=\"text-align: right;\">\n",
       "      <th></th>\n",
       "      <th>CPF</th>\n",
       "      <th>Nome</th>\n",
       "      <th>Endereço</th>\n",
       "      <th>Email</th>\n",
       "    </tr>\n",
       "  </thead>\n",
       "  <tbody>\n",
       "    <tr>\n",
       "      <th>1</th>\n",
       "      <td>12345678901</td>\n",
       "      <td>cliente 1</td>\n",
       "      <td>endereço completo</td>\n",
       "      <td>mail@mail.com</td>\n",
       "    </tr>\n",
       "    <tr>\n",
       "      <th>2</th>\n",
       "      <td>12345678902</td>\n",
       "      <td>cliente 2</td>\n",
       "      <td>endereço completo</td>\n",
       "      <td>mail@mail.com</td>\n",
       "    </tr>\n",
       "    <tr>\n",
       "      <th>3</th>\n",
       "      <td>12345678903</td>\n",
       "      <td>cliente 3</td>\n",
       "      <td>endereço completo</td>\n",
       "      <td>mail@mail.com</td>\n",
       "    </tr>\n",
       "  </tbody>\n",
       "</table>\n",
       "</div>"
      ],
      "text/plain": [
       "           CPF       Nome           Endereço          Email\n",
       "1  12345678901  cliente 1  endereço completo  mail@mail.com\n",
       "2  12345678902  cliente 2  endereço completo  mail@mail.com\n",
       "3  12345678903  cliente 3  endereço completo  mail@mail.com"
      ]
     },
     "execution_count": 14,
     "metadata": {},
     "output_type": "execute_result"
    }
   ],
   "source": [
    "#Visualização dos clientes cadastrados\n",
    "'''SELECT\n",
    "Nome \"Nome Cliente\",\n",
    "CPF \"CPF\",\n",
    "Endereco \"Endereço Completo\",\n",
    "email \"Email\"\n",
    "FROM mastermobile.clientes;'''\n",
    "\n",
    "Clientes.iloc[:,1:]"
   ]
  },
  {
   "cell_type": "code",
   "execution_count": 15,
   "id": "238a33e4",
   "metadata": {},
   "outputs": [
    {
     "data": {
      "text/plain": [
       "Id_Pedido      1\n",
       "Id_clientes    1\n",
       "Id_Produto     1\n",
       "Status         1\n",
       "dtype: int64"
      ]
     },
     "execution_count": 15,
     "metadata": {},
     "output_type": "execute_result"
    }
   ],
   "source": [
    "#Quantidade de pedidos em produção\n",
    "'''SELECT\n",
    "count(pd.id) \"Quantidade de pedidos em Produção\"\n",
    "FROM pedidos pd\n",
    "where pd.status = \"Pedido em Produção\";'''\n",
    "Pedidos.loc[Pedidos.Status == \"Pedido em produção\"].count()"
   ]
  },
  {
   "cell_type": "code",
   "execution_count": 16,
   "id": "415d117b",
   "metadata": {},
   "outputs": [
    {
     "data": {
      "text/plain": [
       "Id_Pedido      1\n",
       "Id_clientes    1\n",
       "Id_Produto     1\n",
       "Status         1\n",
       "dtype: int64"
      ]
     },
     "execution_count": 16,
     "metadata": {},
     "output_type": "execute_result"
    }
   ],
   "source": [
    "#Quantidade de pedidos em rota de entrega\n",
    "'''SELECT\n",
    "count(pd.id) \"Quantidade de pedidos em Rota de Entrega\"\n",
    "FROM pedidos pd\n",
    "where pd.status = \"Pedido em Rota de Entrega\";'''\n",
    "\n",
    "Pedidos.loc[Pedidos.Status == \"Pedido em rota de entrega\"].count()"
   ]
  },
  {
   "cell_type": "code",
   "execution_count": 17,
   "id": "ce10fd93",
   "metadata": {},
   "outputs": [
    {
     "data": {
      "text/plain": [
       "Id_Pedido      0\n",
       "Id_clientes    0\n",
       "Id_Produto     0\n",
       "Status         0\n",
       "dtype: int64"
      ]
     },
     "execution_count": 17,
     "metadata": {},
     "output_type": "execute_result"
    }
   ],
   "source": [
    "#Quantidade de pedidos finalizados\n",
    "'''SELECT\n",
    "count(pd.id) \"Quantidade de pedidos finalizados\"\n",
    "FROM pedidos pd\n",
    "where pd.status = \"Pedido Finalizado\";'''\n",
    "\n",
    "Pedidos.loc[Pedidos.Status == \"Pedido finalizado\"].count()"
   ]
  },
  {
   "cell_type": "code",
   "execution_count": 18,
   "id": "b9fd9ca5",
   "metadata": {
    "scrolled": true
   },
   "outputs": [
    {
     "name": "stdout",
     "output_type": "stream",
     "text": [
      "Quantidade de pedidos efetuados:\n"
     ]
    },
    {
     "data": {
      "text/plain": [
       "4"
      ]
     },
     "execution_count": 18,
     "metadata": {},
     "output_type": "execute_result"
    }
   ],
   "source": [
    "#Quantidade total pedidos\n",
    "'''SELECT\n",
    "count(pd.id) \"Quantidade de pedidos efetuados\"\n",
    "FROM pedidos pd\n",
    "where pd.status = \"Pedido Efetuado\";'''\n",
    "\n",
    "x= Pedidos.loc[Pedidos.Status == \"Pedido efetuado\"].size\n",
    "print('Quantidade de pedidos efetuados:')\n",
    "x\n"
   ]
  }
 ],
 "metadata": {
  "interpreter": {
   "hash": "bc7696eeafa34b5eae99a8ff85011d0682d74fe0e2a2436bba17f9270709e3f6"
  },
  "kernelspec": {
   "display_name": "Python 3 (ipykernel)",
   "language": "python",
   "name": "python3"
  },
  "language_info": {
   "codemirror_mode": {
    "name": "ipython",
    "version": 3
   },
   "file_extension": ".py",
   "mimetype": "text/x-python",
   "name": "python",
   "nbconvert_exporter": "python",
   "pygments_lexer": "ipython3",
   "version": "3.9.12"
  }
 },
 "nbformat": 4,
 "nbformat_minor": 5
}
